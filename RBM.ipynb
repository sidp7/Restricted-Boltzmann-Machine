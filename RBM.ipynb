{
  "nbformat": 4,
  "nbformat_minor": 0,
  "metadata": {
    "colab": {
      "name": "RBM.ipynb",
      "provenance": []
    },
    "kernelspec": {
      "name": "python3",
      "display_name": "Python 3"
    }
  },
  "cells": [
    {
      "cell_type": "markdown",
      "metadata": {
        "id": "DHpYfoCtC7hX"
      },
      "source": [
        "**Downloading the Dataset**"
      ]
    },
    {
      "cell_type": "code",
      "metadata": {
        "id": "HT8tpDE5C7HQ",
        "outputId": "a39c2d7f-475f-4b7a-edeb-abcf7d10c521",
        "colab": {
          "base_uri": "https://localhost:8080/",
          "height": 258
        }
      },
      "source": [
        "!wget \"http://files.grouplens.org/datasets/movielens/ml-100k.zip\"\n",
        "!unzip ml-100k.zip\n",
        "!ls"
      ],
      "execution_count": 1,
      "outputs": [
        {
          "output_type": "stream",
          "text": [
            "--2020-10-08 07:55:53--  http://files.grouplens.org/datasets/movielens/ml-100k.zip\n",
            "Resolving files.grouplens.org (files.grouplens.org)... 128.101.65.152\n",
            "Connecting to files.grouplens.org (files.grouplens.org)|128.101.65.152|:80... connected.\n",
            "HTTP request sent, awaiting response... 200 OK\n",
            "Length: 4924029 (4.7M) [application/zip]\n",
            "Saving to: ‘ml-100k.zip.2’\n",
            "\n",
            "ml-100k.zip.2       100%[===================>]   4.70M  27.2MB/s    in 0.2s    \n",
            "\n",
            "2020-10-08 07:55:53 (27.2 MB/s) - ‘ml-100k.zip.2’ saved [4924029/4924029]\n",
            "\n",
            "Archive:  ml-100k.zip\n",
            "replace ml-100k/allbut.pl? [y]es, [n]o, [A]ll, [N]one, [r]ename: ml-100k  ml-100k.zip  ml-100k.zip.1  ml-100k.zip.2  sample_data\n"
          ],
          "name": "stdout"
        }
      ]
    },
    {
      "cell_type": "markdown",
      "metadata": {
        "id": "LQF0HFu-D6tw"
      },
      "source": [
        "**Importing the Libraries**"
      ]
    },
    {
      "cell_type": "code",
      "metadata": {
        "id": "k4KfiQrPC7KV"
      },
      "source": [
        "import numpy as np\n",
        "import pandas as pd\n",
        "import torch\n",
        "import torch.nn as nn\n",
        "import torch.nn.parallel\n",
        "import torch.optim as optim\n",
        "import torch.utils.data\n",
        "from torch.autograd import Variable"
      ],
      "execution_count": 2,
      "outputs": []
    },
    {
      "cell_type": "markdown",
      "metadata": {
        "id": "evnQtNgLEaAW"
      },
      "source": [
        "**Preparing the training set and test set**"
      ]
    },
    {
      "cell_type": "code",
      "metadata": {
        "id": "H46Y9Hm5C7Nh"
      },
      "source": [
        "training_set = pd.read_csv('ml-100k/u1.base', delimiter ='\\t')\n",
        "training_set = np.array(training_set , dtype ='int')\n",
        "test_set = pd.read_csv('ml-100k/u1.test' , delimiter = '\\t')\n",
        "test_set = np.array(test_set, dtype ='int')"
      ],
      "execution_count": 3,
      "outputs": []
    },
    {
      "cell_type": "markdown",
      "metadata": {
        "id": "G-6iIa2gJvYR"
      },
      "source": [
        "Getting the number of users and movies"
      ]
    },
    {
      "cell_type": "code",
      "metadata": {
        "id": "iNCUyi9uJ83L"
      },
      "source": [
        "nb_users = int(max(max(training_set[:,0],), max(test_set[:,0])))\n",
        "nb_movies = int(max(max(training_set[:,1],),max(test_set[:,1])))"
      ],
      "execution_count": 4,
      "outputs": []
    },
    {
      "cell_type": "code",
      "metadata": {
        "id": "P6Gnm07qLZPw",
        "outputId": "4db3de2b-fbfb-4644-b92f-23fa97a1ba30",
        "colab": {
          "base_uri": "https://localhost:8080/",
          "height": 51
        }
      },
      "source": [
        "print(nb_users)\n",
        "print(nb_movies)"
      ],
      "execution_count": 5,
      "outputs": [
        {
          "output_type": "stream",
          "text": [
            "943\n",
            "1682\n"
          ],
          "name": "stdout"
        }
      ]
    },
    {
      "cell_type": "markdown",
      "metadata": {
        "id": "Al5Xtu2DKy7_"
      },
      "source": [
        "Converting the data into an array with user in lines and movies in columns"
      ]
    },
    {
      "cell_type": "code",
      "metadata": {
        "id": "dgajn96rKyEb"
      },
      "source": [
        "def convert(data):\n",
        "  new_data = []\n",
        "  for id_users in range(1,nb_users + 1 ):\n",
        "    id_movies = data[:,1] [data[:,0]== id_users]\n",
        "    id_ratings = data[:,2][ data[:,0]== id_users]\n",
        "    ratings = np.zeros(nb_movies)\n",
        "    ratings[id_movies - 1] = id_ratings\n",
        "    new_data.append(list(ratings))\n",
        "  return new-new_data\n",
        "  training_set = convert(training_set)\n",
        "  test_set = convert(test_set)"
      ],
      "execution_count": 6,
      "outputs": []
    },
    {
      "cell_type": "markdown",
      "metadata": {
        "id": "U8_hrtmGMHYK"
      },
      "source": [
        "**Converting the data into Torch Tensors**"
      ]
    },
    {
      "cell_type": "code",
      "metadata": {
        "id": "DJCo7RVNMCx7"
      },
      "source": [
        "training_set = torch.FloatTensor(training_set)\n",
        "test_set = torch.FloatTensor(test_set)"
      ],
      "execution_count": 7,
      "outputs": []
    },
    {
      "cell_type": "markdown",
      "metadata": {
        "id": "NvTU9L2aMbiw"
      },
      "source": [
        "Converting the rating into binary ratings 1(Liked) or 0 (Not Liked)"
      ]
    },
    {
      "cell_type": "code",
      "metadata": {
        "id": "blUqJKvEMX-k"
      },
      "source": [
        "training_set[training_set == 0] = -1\n",
        "training_set[training_set == 1] = 0\n",
        "training_set[training_set == 2] = 0\n",
        "training_set[training_set >= 3] = 1\n",
        "test_set[test_set == 0] = -1\n",
        "test_set[test_set == 1] = 0\n",
        "test_set[test_set == 2] = 0\n",
        "test_set[test_set >= 3] = 1"
      ],
      "execution_count": 8,
      "outputs": []
    },
    {
      "cell_type": "markdown",
      "metadata": {
        "id": "dfoJjKbiMrLB"
      },
      "source": [
        "**Creating the architecture of the Neural Network**"
      ]
    },
    {
      "cell_type": "code",
      "metadata": {
        "id": "b1QpuIRRMqb7"
      },
      "source": [
        "class RBM():\n",
        "  def __init__(self, nv, nh):\n",
        "    self.W = torch.randn(nh, nv)\n",
        "    self.a = torch.randn(1, nh)\n",
        "    self.b = torch.randn(1, nv)\n",
        "  def sample_h(self, x):\n",
        "    wx = torch.mm(x, self.W.t())\n",
        "    activation = wx + self.a.expand_as(wx)\n",
        "    p_h_given_v = torch.sigmoid(activation)\n",
        "    return p_h_given_v, torch.bernoulli(p_h_given_v)\n",
        "  def sample_v(self, y):\n",
        "    wy = torch.mm(y, self.W)\n",
        "    activation = wy + self.b.expand_as(wy)\n",
        "    p_v_given_h = torch.sigmoid(activation)\n",
        "    return p_v_given_h, torch.bernoulli(p_v_given_h)\n",
        "  def train(self, v0, vk, ph0, phk):\n",
        "    self.W += (torch.mm(v0.t(), ph0) - torch.mm(vk.t(), phk)).t()\n",
        "    self.b += torch.sum((v0 - vk), 0)\n",
        "    self.a += torch.sum((ph0 - phk), 0)\n",
        "nv = len(training_set[0])\n",
        "nh = 100\n",
        "batch_size = 100\n",
        "rbm = RBM(nv, nh)"
      ],
      "execution_count": 9,
      "outputs": []
    },
    {
      "cell_type": "markdown",
      "metadata": {
        "id": "QHFw32RGM0GL"
      },
      "source": [
        "Training the RBM"
      ]
    },
    {
      "cell_type": "code",
      "metadata": {
        "id": "IZcfVPfOMzeb",
        "outputId": "de059859-0aab-44ef-ba2e-6fbf47a94279",
        "colab": {
          "base_uri": "https://localhost:8080/",
          "height": 527
        }
      },
      "source": [
        "nb_epoch = 30\n",
        "for epoch in range(1, nb_epoch + 1):\n",
        "  train_loss = 0\n",
        "  s = 0.\n",
        "  for id_user in range(0, nb_users - batch_size, batch_size):\n",
        "    vk = training_set[id_user : id_user + batch_size]\n",
        "    v0 = training_set[id_user : id_user + batch_size]\n",
        "    ph0,_ = rbm.sample_h(v0)\n",
        "    for k in range(10):\n",
        "      _,hk = rbm.sample_h(vk)\n",
        "      _,vk = rbm.sample_v(hk)\n",
        "      vk[v0<0] = v0[v0<0]\n",
        "    phk,_ = rbm.sample_h(vk)\n",
        "    rbm.train(v0, vk, ph0, phk)\n",
        "    train_loss += torch.mean(torch.abs(v0[v0 >= 0] - vk[v0 >= 0]))\n",
        "    s += 1.\n",
        "  print('epoch: '+str(epoch)+' loss: '+str(train_loss/s))\n"
      ],
      "execution_count": 10,
      "outputs": [
        {
          "output_type": "stream",
          "text": [
            "epoch: 1 loss: tensor(0.0967)\n",
            "epoch: 2 loss: tensor(0.1781)\n",
            "epoch: 3 loss: tensor(0.1228)\n",
            "epoch: 4 loss: tensor(0.0883)\n",
            "epoch: 5 loss: tensor(0.1253)\n",
            "epoch: 6 loss: tensor(0.1233)\n",
            "epoch: 7 loss: tensor(0.1128)\n",
            "epoch: 8 loss: tensor(0.1111)\n",
            "epoch: 9 loss: tensor(0.1231)\n",
            "epoch: 10 loss: tensor(0.1131)\n",
            "epoch: 11 loss: tensor(0.1394)\n",
            "epoch: 12 loss: tensor(0.0881)\n",
            "epoch: 13 loss: tensor(0.1128)\n",
            "epoch: 14 loss: tensor(0.1406)\n",
            "epoch: 15 loss: tensor(0.0986)\n",
            "epoch: 16 loss: tensor(0.1161)\n",
            "epoch: 17 loss: tensor(0.1403)\n",
            "epoch: 18 loss: tensor(0.1228)\n",
            "epoch: 19 loss: tensor(0.0883)\n",
            "epoch: 20 loss: tensor(0.1242)\n",
            "epoch: 21 loss: tensor(0.1142)\n",
            "epoch: 22 loss: tensor(0.1392)\n",
            "epoch: 23 loss: tensor(0.0883)\n",
            "epoch: 24 loss: tensor(0.1128)\n",
            "epoch: 25 loss: tensor(0.1381)\n",
            "epoch: 26 loss: tensor(0.1003)\n",
            "epoch: 27 loss: tensor(0.1231)\n",
            "epoch: 28 loss: tensor(0.1417)\n",
            "epoch: 29 loss: tensor(0.0950)\n",
            "epoch: 30 loss: tensor(0.1161)\n"
          ],
          "name": "stdout"
        }
      ]
    },
    {
      "cell_type": "markdown",
      "metadata": {
        "id": "0NeGeKJnM40m"
      },
      "source": [
        "**Testing the RBM**"
      ]
    },
    {
      "cell_type": "code",
      "metadata": {
        "id": "H5_LeT7hM7jJ",
        "outputId": "773b75de-4c9b-4f4e-95e4-bcf649e2813c",
        "colab": {
          "base_uri": "https://localhost:8080/",
          "height": 34
        }
      },
      "source": [
        "test_loss = 0\n",
        "s = 0.\n",
        "for id_user in range(nb_users):\n",
        "    v = training_set[id_user:id_user+1]\n",
        "    vt = test_set[id_user:id_user+1]\n",
        "    if len(vt[vt>=0]) > 0:\n",
        "        _,h = rbm.sample_h(v)\n",
        "        _,v = rbm.sample_v(h)\n",
        "        test_loss += torch.mean(torch.abs(vt[vt>=0] - v[vt>=0]))\n",
        "        s += 1.\n",
        "print('test loss: '+str(test_loss/s))"
      ],
      "execution_count": 11,
      "outputs": [
        {
          "output_type": "stream",
          "text": [
            "test loss: tensor(0.0854)\n"
          ],
          "name": "stdout"
        }
      ]
    }
  ]
}